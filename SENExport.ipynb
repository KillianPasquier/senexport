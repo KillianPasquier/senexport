{
 "cells": [
  {
   "cell_type": "markdown",
   "id": "21aa4caa-6993-4fba-84ca-0f447f06be4f",
   "metadata": {},
   "source": [
    "# J'importe les différentes bibliothèques nécessaires à la création du logiciel"
   ]
  },
  {
   "cell_type": "code",
   "execution_count": 1,
   "id": "1f2de951",
   "metadata": {},
   "outputs": [],
   "source": [
    "from tkinter import *\n",
    "from tkinter import filedialog\n",
    "from PIL import ImageTk, Image\n",
    "import sys\n",
    "import os\n",
    "import shutil"
   ]
  },
  {
   "cell_type": "markdown",
   "id": "6d2ff35e-fcc1-40cc-a975-5f7e77cc30d2",
   "metadata": {},
   "source": [
    "# Je crée la fenêtre"
   ]
  },
  {
   "cell_type": "code",
   "execution_count": 2,
   "id": "fa2a280e",
   "metadata": {},
   "outputs": [
    {
     "data": {
      "text/plain": [
       "''"
      ]
     },
     "execution_count": 2,
     "metadata": {},
     "output_type": "execute_result"
    }
   ],
   "source": [
    "senexportapp = Tk()\n",
    "senexportapp.title(\"SENExport\")\n",
    "senexportapp.geometry(\"900x400\")"
   ]
  },
  {
   "cell_type": "markdown",
   "id": "db6c6511-d060-4824-b435-56d39d930c81",
   "metadata": {},
   "source": [
    "# Je compartimente ma fenêtre pour une meilleure visibilité"
   ]
  },
  {
   "cell_type": "code",
   "execution_count": 3,
   "id": "3544dab1",
   "metadata": {},
   "outputs": [],
   "source": [
    "img = ImageTk.PhotoImage(Image.open(\"logo.png\"))\n",
    "panel = Label(senexportapp, image = img)\n",
    "panel.pack(side=TOP, padx=30, pady=30)\n",
    "frame_choice = LabelFrame(senexportapp, text=\"Veuillez sélectionner un fichier à transformer\", borderwidth=2, relief=GROOVE)\n",
    "frame_choice.pack(side=LEFT, padx=30, pady=30)\n",
    "frame_export = LabelFrame(senexportapp, text=\"Lorsque vous avez choisi, cliquez sur le bouton ci-dessous\", borderwidth=2, relief=GROOVE)\n",
    "frame_export.pack(side=RIGHT, padx=30, pady=30)"
   ]
  },
  {
   "cell_type": "markdown",
   "id": "54f36016-3d0f-4f27-93b4-52368fa511e5",
   "metadata": {},
   "source": [
    "# Je permets à l'utilisateur de chercher un fichier .csv sur son poste de travail"
   ]
  },
  {
   "cell_type": "code",
   "execution_count": 4,
   "id": "0752a7fd-b60d-451a-8de0-a5fd2491cbc3",
   "metadata": {},
   "outputs": [],
   "source": [
    "def open_files():\n",
    "    open_path = filedialog.askopenfilename(title=\"Ouvrir un fichier source à transformer\", filetypes=[(\"Fichier CSV\", '.csv')])\n",
    "    open_show.config(text=open_path)\n",
    "    destination=r\"fortransformation.csv\"\n",
    "    shutil.copyfile(open_path, destination)\n",
    "open_choice=Button(frame_choice, text=\"Choisir un fichier\",command=open_files)\n",
    "open_show= Label(frame_choice,text=\"\")\n",
    "design= Label(frame_choice, text=\"\")\n",
    "open_choice.pack()\n",
    "open_show.pack()\n",
    "design.pack()"
   ]
  },
  {
   "cell_type": "markdown",
   "id": "2300086d-3c02-4347-a5d0-fa98e10f2d4d",
   "metadata": {},
   "source": [
    "# Je crée un bouton qui permet d'effectuer le script \"Export_ICP_MS\""
   ]
  },
  {
   "cell_type": "code",
   "execution_count": 5,
   "id": "f69f1620",
   "metadata": {},
   "outputs": [],
   "source": [
    "def exporticp():\n",
    "    os.system('python Export_ICP_MS.py')\n",
    "icpbutton=Button(frame_export, text=\"Transformer le fichier\", command=exporticp)\n",
    "icpbutton.pack()"
   ]
  },
  {
   "cell_type": "markdown",
   "id": "e35bdc27-5ec3-46c6-85b1-fec313e36964",
   "metadata": {},
   "source": [
    "# Je crée un bouton qui permet de choisir le nom et l'endroit du fichier final"
   ]
  },
  {
   "cell_type": "code",
   "execution_count": 6,
   "id": "5cfdd4d2-0324-43f7-9a44-e5bdccd73dba",
   "metadata": {},
   "outputs": [],
   "source": [
    "def save_files():\n",
    "    save_path = filedialog.asksaveasfilename(title=\"Enregistrer sous...\", filetypes=[(\"Fichier CSV\", '.csv')])\n",
    "    save_show.config(text=save_path)\n",
    "    source=r\"finalfile.csv\"\n",
    "    shutil.copyfile(source, save_path)\n",
    "save_choice=Button(frame_export, text=\"Enregistrer sous...\",command=save_files)\n",
    "save_show= Label(frame_export,text=\"\")\n",
    "save_choice.pack()\n",
    "save_show.pack()"
   ]
  },
  {
   "cell_type": "markdown",
   "id": "88e89b58-45c8-4c6f-b26f-43a33da4c30f",
   "metadata": {},
   "source": [
    "# Je crée un bouton de fermeture du logiciel"
   ]
  },
  {
   "cell_type": "code",
   "execution_count": 7,
   "id": "1035a6e4",
   "metadata": {},
   "outputs": [],
   "source": [
    "closeapp=Button(senexportapp, text=\"Fermer\", command=senexportapp.quit)\n",
    "closeapp.pack(side=BOTTOM)"
   ]
  },
  {
   "cell_type": "markdown",
   "id": "f6407b24-7b13-438c-b318-04cc2d2dcd85",
   "metadata": {},
   "source": [
    "# C'est une ligne de commande qui sert au bon fonctionnement du logiciel"
   ]
  },
  {
   "cell_type": "code",
   "execution_count": 8,
   "id": "9c52b832",
   "metadata": {
    "lines_to_next_cell": 2
   },
   "outputs": [
    {
     "name": "stderr",
     "output_type": "stream",
     "text": [
      "Exception in Tkinter callback\n",
      "Traceback (most recent call last):\n",
      "  File \"/Users/killian/opt/anaconda3/lib/python3.9/tkinter/__init__.py\", line 1892, in __call__\n",
      "    return self.func(*args)\n",
      "  File \"/var/folders/c2/231qj_q57wq01xkv3r8bjcsh0000gn/T/ipykernel_34984/479752553.py\", line 5, in open_files\n",
      "    shutil.copyfile(open_path, destination)\n",
      "  File \"/Users/killian/opt/anaconda3/lib/python3.9/shutil.py\", line 264, in copyfile\n",
      "    with open(src, 'rb') as fsrc:\n",
      "FileNotFoundError: [Errno 2] No such file or directory: ''\n"
     ]
    }
   ],
   "source": [
    "senexportapp.mainloop()"
   ]
  },
  {
   "cell_type": "code",
   "execution_count": 9,
   "id": "b7af20e4-8804-4513-a6da-a0a42f141112",
   "metadata": {},
   "outputs": [
    {
     "ename": "FileNotFoundError",
     "evalue": "[Errno 2] No such file or directory: 'fortransformation.csv'",
     "output_type": "error",
     "traceback": [
      "\u001b[0;31m---------------------------------------------------------------------------\u001b[0m",
      "\u001b[0;31mFileNotFoundError\u001b[0m                         Traceback (most recent call last)",
      "Input \u001b[0;32mIn [9]\u001b[0m, in \u001b[0;36m<cell line: 1>\u001b[0;34m()\u001b[0m\n\u001b[0;32m----> 1\u001b[0m \u001b[43mos\u001b[49m\u001b[38;5;241;43m.\u001b[39;49m\u001b[43mremove\u001b[49m\u001b[43m(\u001b[49m\u001b[38;5;124;43m\"\u001b[39;49m\u001b[38;5;124;43mfortransformation.csv\u001b[39;49m\u001b[38;5;124;43m\"\u001b[39;49m\u001b[43m)\u001b[49m\n\u001b[1;32m      2\u001b[0m os\u001b[38;5;241m.\u001b[39mremove(\u001b[38;5;124m\"\u001b[39m\u001b[38;5;124mfinalfile.csv\u001b[39m\u001b[38;5;124m\"\u001b[39m)\n",
      "\u001b[0;31mFileNotFoundError\u001b[0m: [Errno 2] No such file or directory: 'fortransformation.csv'"
     ]
    }
   ],
   "source": [
    "os.remove(\"fortransformation.csv\")\n",
    "os.remove(\"finalfile.csv\")"
   ]
  },
  {
   "cell_type": "code",
   "execution_count": null,
   "id": "14a9d33d-5521-44c4-bb50-5490ae2908f1",
   "metadata": {},
   "outputs": [],
   "source": []
  }
 ],
 "metadata": {
  "jupytext": {
   "cell_metadata_filter": "-all",
   "encoding": "# coding: utf-8",
   "executable": "/usr/bin/env python",
   "main_language": "python",
   "notebook_metadata_filter": "-all"
  },
  "kernelspec": {
   "display_name": "Python 3 (ipykernel)",
   "language": "python",
   "name": "python3"
  },
  "language_info": {
   "codemirror_mode": {
    "name": "ipython",
    "version": 3
   },
   "file_extension": ".py",
   "mimetype": "text/x-python",
   "name": "python",
   "nbconvert_exporter": "python",
   "pygments_lexer": "ipython3",
   "version": "3.9.12"
  }
 },
 "nbformat": 4,
 "nbformat_minor": 5
}
